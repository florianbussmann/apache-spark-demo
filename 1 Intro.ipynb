{
 "cells": [
  {
   "cell_type": "code",
   "execution_count": 1,
   "id": "252e3faa",
   "metadata": {
    "execution": {
     "iopub.execute_input": "2025-10-28T19:10:56.249778Z",
     "iopub.status.busy": "2025-10-28T19:10:56.249488Z",
     "iopub.status.idle": "2025-10-28T19:10:58.407551Z",
     "shell.execute_reply": "2025-10-28T19:10:58.407052Z"
    }
   },
   "outputs": [
    {
     "name": "stderr",
     "output_type": "stream",
     "text": [
      "WARNING: Using incubator modules: jdk.incubator.vector\n"
     ]
    },
    {
     "name": "stderr",
     "output_type": "stream",
     "text": [
      "Using Spark's default log4j profile: org/apache/spark/log4j2-defaults.properties\n",
      "Setting default log level to \"WARN\".\n",
      "To adjust logging level use sc.setLogLevel(newLevel). For SparkR, use setLogLevel(newLevel).\n"
     ]
    },
    {
     "name": "stderr",
     "output_type": "stream",
     "text": [
      "25/10/28 20:10:57 WARN NativeCodeLoader: Unable to load native-hadoop library for your platform... using builtin-java classes where applicable\n"
     ]
    }
   ],
   "source": [
    "from datetime import datetime, date\n",
    "from pyspark.sql import Row, SparkSession\n",
    "from utils import export\n",
    "\n",
    "spark = SparkSession.builder.getOrCreate()"
   ]
  },
  {
   "cell_type": "code",
   "execution_count": 2,
   "id": "165f3988",
   "metadata": {
    "execution": {
     "iopub.execute_input": "2025-10-28T19:10:58.408711Z",
     "iopub.status.busy": "2025-10-28T19:10:58.408587Z",
     "iopub.status.idle": "2025-10-28T19:10:58.920275Z",
     "shell.execute_reply": "2025-10-28T19:10:58.919792Z"
    }
   },
   "outputs": [],
   "source": [
    "df = spark.createDataFrame([\n",
    "    Row(a=1, b=2., c='string1', d=date(2000, 1, 1), e=datetime(2000, 1, 1, 12, 0)),\n",
    "    Row(a=2, b=3., c='string2', d=date(2000, 2, 1), e=datetime(2000, 1, 2, 12, 0)),\n",
    "    Row(a=4, b=5., c='string3', d=date(2000, 3, 1), e=datetime(2000, 1, 3, 12, 0))\n",
    "])"
   ]
  },
  {
   "cell_type": "code",
   "execution_count": 3,
   "id": "1231423e",
   "metadata": {
    "execution": {
     "iopub.execute_input": "2025-10-28T19:10:58.921646Z",
     "iopub.status.busy": "2025-10-28T19:10:58.921564Z",
     "iopub.status.idle": "2025-10-28T19:11:00.277201Z",
     "shell.execute_reply": "2025-10-28T19:11:00.276734Z"
    }
   },
   "outputs": [
    {
     "name": "stderr",
     "output_type": "stream",
     "text": [
      "\r\n",
      "[Stage 0:>                                                          (0 + 1) / 1]\r\n",
      "\r\n",
      "                                                                                \r"
     ]
    },
    {
     "name": "stdout",
     "output_type": "stream",
     "text": [
      "+---+---+-------+----------+-------------------+\n",
      "|  a|  b|      c|         d|                  e|\n",
      "+---+---+-------+----------+-------------------+\n",
      "|  1|2.0|string1|2000-01-01|2000-01-01 12:00:00|\n",
      "|  2|3.0|string2|2000-02-01|2000-01-02 12:00:00|\n",
      "|  4|5.0|string3|2000-03-01|2000-01-03 12:00:00|\n",
      "+---+---+-------+----------+-------------------+\n",
      "\n"
     ]
    }
   ],
   "source": [
    "df.show()"
   ]
  },
  {
   "cell_type": "code",
   "execution_count": 4,
   "id": "f900d4a3",
   "metadata": {
    "execution": {
     "iopub.execute_input": "2025-10-28T19:11:00.278099Z",
     "iopub.status.busy": "2025-10-28T19:11:00.278024Z",
     "iopub.status.idle": "2025-10-28T19:11:00.591103Z",
     "shell.execute_reply": "2025-10-28T19:11:00.590631Z"
    }
   },
   "outputs": [],
   "source": [
    "export(df, \"intro\")"
   ]
  },
  {
   "cell_type": "code",
   "execution_count": null,
   "id": "1a1c4ff5",
   "metadata": {},
   "outputs": [],
   "source": []
  }
 ],
 "metadata": {
  "kernelspec": {
   "display_name": "apache-spark-demo",
   "language": "python",
   "name": "python3"
  },
  "language_info": {
   "codemirror_mode": {
    "name": "ipython",
    "version": 3
   },
   "file_extension": ".py",
   "mimetype": "text/x-python",
   "name": "python",
   "nbconvert_exporter": "python",
   "pygments_lexer": "ipython3",
   "version": "3.12.9"
  }
 },
 "nbformat": 4,
 "nbformat_minor": 5
}

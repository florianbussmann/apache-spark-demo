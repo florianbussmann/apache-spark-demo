{
 "cells": [
  {
   "cell_type": "code",
   "execution_count": null,
   "id": "7e84bc3c",
   "metadata": {
    "execution": {
     "iopub.execute_input": "2025-10-28T19:27:21.443406Z",
     "iopub.status.busy": "2025-10-28T19:27:21.443157Z",
     "iopub.status.idle": "2025-10-28T19:27:21.446761Z",
     "shell.execute_reply": "2025-10-28T19:27:21.446041Z"
    },
    "papermill": {
     "duration": 0.007861,
     "end_time": "2025-10-28T19:27:21.447586",
     "exception": false,
     "start_time": "2025-10-28T19:27:21.439725",
     "status": "completed"
    },
    "tags": [
     "parameters"
    ]
   },
   "outputs": [],
   "source": [
    "plant = \"1\"\n"
   ]
  },
  {
   "cell_type": "code",
   "execution_count": null,
   "id": "252e3faa",
   "metadata": {
    "execution": {
     "iopub.execute_input": "2025-10-28T19:27:21.458033Z",
     "iopub.status.busy": "2025-10-28T19:27:21.457922Z",
     "iopub.status.idle": "2025-10-28T19:27:23.582472Z",
     "shell.execute_reply": "2025-10-28T19:27:23.582080Z"
    },
    "papermill": {
     "duration": 2.126998,
     "end_time": "2025-10-28T19:27:23.583235",
     "exception": false,
     "start_time": "2025-10-28T19:27:21.456237",
     "status": "completed"
    },
    "tags": []
   },
   "outputs": [],
   "source": [
    "from datetime import datetime, date\n",
    "from pyspark.sql import Row, SparkSession\n",
    "from pyspark.sql.functions import lit\n",
    "from utils import export\n",
    "\n",
    "spark = SparkSession.builder.getOrCreate()"
   ]
  },
  {
   "cell_type": "code",
   "execution_count": null,
   "id": "165f3988",
   "metadata": {
    "execution": {
     "iopub.execute_input": "2025-10-28T19:27:23.589317Z",
     "iopub.status.busy": "2025-10-28T19:27:23.589240Z",
     "iopub.status.idle": "2025-10-28T19:27:24.093279Z",
     "shell.execute_reply": "2025-10-28T19:27:24.092907Z"
    },
    "papermill": {
     "duration": 0.50566,
     "end_time": "2025-10-28T19:27:24.093911",
     "exception": false,
     "start_time": "2025-10-28T19:27:23.588251",
     "status": "completed"
    },
    "tags": []
   },
   "outputs": [],
   "source": [
    "df = spark.createDataFrame([\n",
    "    Row(a=1, b=2., c='string1', d=date(2000, 1, 1), e=datetime(2000, 1, 1, 12, 0)),\n",
    "    Row(a=2, b=3., c='string2', d=date(2000, 2, 1), e=datetime(2000, 1, 2, 12, 0)),\n",
    "    Row(a=4, b=5., c='string3', d=date(2000, 3, 1), e=datetime(2000, 1, 3, 12, 0))\n",
    "]).withColumn(\"plant\", lit(plant))"
   ]
  },
  {
   "cell_type": "code",
   "execution_count": null,
   "id": "1231423e",
   "metadata": {
    "execution": {
     "iopub.execute_input": "2025-10-28T19:27:24.096012Z",
     "iopub.status.busy": "2025-10-28T19:27:24.095919Z",
     "iopub.status.idle": "2025-10-28T19:27:25.254147Z",
     "shell.execute_reply": "2025-10-28T19:27:25.253715Z"
    },
    "papermill": {
     "duration": 1.159798,
     "end_time": "2025-10-28T19:27:25.254582",
     "exception": false,
     "start_time": "2025-10-28T19:27:24.094784",
     "status": "completed"
    },
    "tags": []
   },
   "outputs": [],
   "source": [
    "df.show()"
   ]
  },
  {
   "cell_type": "code",
   "execution_count": null,
   "id": "f900d4a3",
   "metadata": {
    "execution": {
     "iopub.execute_input": "2025-10-28T19:27:25.256758Z",
     "iopub.status.busy": "2025-10-28T19:27:25.256664Z",
     "iopub.status.idle": "2025-10-28T19:27:25.501825Z",
     "shell.execute_reply": "2025-10-28T19:27:25.501398Z"
    },
    "papermill": {
     "duration": 0.246827,
     "end_time": "2025-10-28T19:27:25.502367",
     "exception": false,
     "start_time": "2025-10-28T19:27:25.255540",
     "status": "completed"
    },
    "tags": []
   },
   "outputs": [],
   "source": [
    "export(df, \"intro\")"
   ]
  },
  {
   "cell_type": "code",
   "execution_count": null,
   "id": "1a1c4ff5",
   "metadata": {
    "papermill": {
     "duration": 0.000648,
     "end_time": "2025-10-28T19:27:25.503848",
     "exception": false,
     "start_time": "2025-10-28T19:27:25.503200",
     "status": "completed"
    },
    "tags": []
   },
   "outputs": [],
   "source": []
  }
 ],
 "metadata": {
  "kernelspec": {
   "display_name": "apache-spark-demo",
   "language": "python",
   "name": "python3"
  },
  "language_info": {
   "codemirror_mode": {
    "name": "ipython",
    "version": 3
   },
   "file_extension": ".py",
   "mimetype": "text/x-python",
   "name": "python",
   "nbconvert_exporter": "python",
   "pygments_lexer": "ipython3",
   "version": "3.12.9"
  },
  "papermill": {
   "default_parameters": {},
   "duration": 5.50313,
   "end_time": "2025-10-28T19:27:26.225685",
   "environment_variables": {},
   "exception": null,
   "input_path": "1 Intro.ipynb",
   "output_path": "1 Intro.ipynb",
   "parameters": {
    "plant": "1090"
   },
   "start_time": "2025-10-28T19:27:20.722555",
   "version": "2.6.0"
  }
 },
 "nbformat": 4,
 "nbformat_minor": 5
}

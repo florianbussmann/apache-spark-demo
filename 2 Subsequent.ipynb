{
 "cells": [
  {
   "cell_type": "code",
   "execution_count": null,
   "id": "1a2ddef9",
   "metadata": {
    "tags": [
     "parameters"
    ]
   },
   "outputs": [],
   "source": []
  },
  {
   "cell_type": "code",
   "execution_count": null,
   "id": "804fd460",
   "metadata": {},
   "outputs": [],
   "source": [
    "from pyspark.sql import SparkSession\n",
    "from utils import load, export\n",
    "\n",
    "spark = SparkSession.builder.getOrCreate()"
   ]
  },
  {
   "cell_type": "code",
   "execution_count": null,
   "id": "40d97e4b",
   "metadata": {},
   "outputs": [],
   "source": [
    "df = load(spark, \"intro\")"
   ]
  },
  {
   "cell_type": "code",
   "execution_count": null,
   "id": "8252c2b1",
   "metadata": {},
   "outputs": [],
   "source": [
    "selection = df.select(df.a, df.b, df.plant).filter(df.a > 1)\n",
    "selection.show()"
   ]
  },
  {
   "cell_type": "code",
   "execution_count": null,
   "id": "54a1c347",
   "metadata": {},
   "outputs": [],
   "source": [
    "export(selection, \"data\")"
   ]
  }
 ],
 "metadata": {
  "kernelspec": {
   "display_name": "apache-spark-demo",
   "language": "python",
   "name": "python3"
  },
  "language_info": {
   "codemirror_mode": {
    "name": "ipython",
    "version": 3
   },
   "file_extension": ".py",
   "mimetype": "text/x-python",
   "name": "python",
   "nbconvert_exporter": "python",
   "pygments_lexer": "ipython3",
   "version": "3.12.9"
  }
 },
 "nbformat": 4,
 "nbformat_minor": 5
}
